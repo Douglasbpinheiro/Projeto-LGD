{
  "cells": [
    {
      "cell_type": "markdown",
      "metadata": {
        "id": "view-in-github",
        "colab_type": "text"
      },
      "source": [
        "<a href=\"https://colab.research.google.com/github/Douglasbpinheiro/LGD_ML/blob/main/Modelo_LGD_ML_V2.ipynb\" target=\"_parent\"><img src=\"https://colab.research.google.com/assets/colab-badge.svg\" alt=\"Open In Colab\"/></a>"
      ]
    },
    {
      "cell_type": "markdown",
      "metadata": {
        "id": "1zmMie-lMgAe"
      },
      "source": [
        "\n",
        "\n",
        "# 0) Modelo de LGD - ML\n",
        "\n",
        "Nesse primeiro modelo utilizamos a biblioteca AutoSklearn.\n",
        "\n"
      ]
    },
    {
      "cell_type": "markdown",
      "metadata": {
        "id": "oS_-koU-zgeS"
      },
      "source": [
        "# 1) Importando e tratando os dados\n",
        "\n",
        "### Dicas de analise inicial e dados importados do link [Kaggle](https://www.kaggle.com/ztrimus/loan-repayment-prediction) inclusive com ML e avaliação. \n",
        "\n",
        "\n",
        "\n",
        "\n",
        "\n",
        "1. Nessa etapa foram mantidos apenas os registros elegíveis à apuração do LGD, pelo critéio `loan_status`.\n",
        "```\n",
        "df0 = pd.read_csv('Loan_status_2007-2020Q3.zip', compression='zip', low_memory=False, index_col=0, nrows = 1500000)\n",
        "df0 = df0[df0['loan_status'].isin(['Charged Off','Does not meet the credit policy. Status:Charged Off'])] \n",
        "df1 = pd.read_csv('Loan_status_2007-2020Q3.zip', compression='zip', low_memory=False, index_col=0, skiprows=[i for i in range(1,1500000)])\n",
        "df1 = df1[df1['loan_status'].isin(['Charged Off','Does not meet the credit policy. Status:Charged Off'])] \n",
        "df = df0.append(df1, ignore_index=True)\n",
        "df.to_csv('df.csv.zip', index=True, compression='zip')\n",
        "```\n",
        "\n",
        "\n",
        "2. Foram excluídas 31 observações devido ao principal ter sido 100% recuperado.Nessa situação o denominador do LGD=0.\n",
        "```\n",
        "df = df[(df['loan_amnt']-df['total_rec_prncp'])>0] \n",
        "```\n",
        "\n",
        "3. Foram gerados os dados para estudo do período e work-out. Com base nos dados abaixo foram selecionados os anos de `2014 a 2017` para o estudo. O que nos deixou com 266.515 observações.\n",
        "```\n",
        "lgd = df.groupby(['year'], as_index=False).agg({'id':'count', 'lgd_c': np.mean, 'lgd_c_d': np.mean})\n",
        "lgd.to_excel('lgd.xlsx', index = False, header=True)\n",
        "df = df[df.year.isin([2014, 2015, 2016, 2017])]\n",
        "```\n",
        "\n",
        "4. Por fim, foi analisada a distribuição do LGD por ano e ela se manteve estável, depois foi avaliada se a renda não verificada deveria ser excluída, conforme artigo `P2P`, e notamos que não há diferença no nível de LGD entre os tipos de verificação. Finalmente incluímos os custos de recuperação referente ao comissionamento e vimos que, em média, representam 17,5% da recuperação observada.\n",
        "```\n",
        "fig = plt.figure(); \n",
        "df.hist(column='lgd', by='year', grid=False, histtype='barstacked', bins=25, sharey=False, legend=False, color='black', range=[0,1], figsize = (10, 7))\n",
        "plt.show()\n",
        "df.groupby(['verification_status'], as_index=False).agg({'id':'count', 'lgd': np.mean, 'lgd_d': np.mean})\n",
        "df.groupby(['year'], as_index=False).agg({'id':'count', 'collection_recovery_fee': np.sum, 'recoveries': np.sum})\n",
        "```\n"
      ]
    },
    {
      "cell_type": "code",
      "execution_count": 1,
      "metadata": {
        "id": "ZzUm9NbR1j8J",
        "colab": {
          "base_uri": "https://localhost:8080/"
        },
        "outputId": "0a82858e-fc08-49e2-dfe0-1f7f0b9da7e0"
      },
      "outputs": [
        {
          "output_type": "stream",
          "name": "stdout",
          "text": [
            "Drive already mounted at /content/drive; to attempt to forcibly remount, call drive.mount(\"/content/drive\", force_remount=True).\n"
          ]
        }
      ],
      "source": [
        "#Conecta o google drive ao ambiente de trabalho\n",
        "from google.colab import drive\n",
        "drive.mount('/content/drive')"
      ]
    },
    {
      "cell_type": "markdown",
      "source": [
        "\n",
        "# 2) Desenvolvimento com Auto Sklearn\n",
        "\n",
        "> Sempre instalar as bibliotecas e reiniciar o ambiente depois\n"
      ],
      "metadata": {
        "id": "uiiX3liD9-Oz"
      }
    },
    {
      "cell_type": "code",
      "source": [
        "!pip install scikit-learn"
      ],
      "metadata": {
        "id": "efTHSp1S4znr"
      },
      "execution_count": null,
      "outputs": []
    },
    {
      "cell_type": "code",
      "source": [
        "!pip install auto-sklearn"
      ],
      "metadata": {
        "id": "jUXI46ZA412X"
      },
      "execution_count": null,
      "outputs": []
    },
    {
      "cell_type": "code",
      "execution_count": 2,
      "metadata": {
        "id": "h3qm0-wTI41T",
        "colab": {
          "base_uri": "https://localhost:8080/"
        },
        "outputId": "7c3550f1-22ab-419d-b9f0-6b9bbc7c3b4b"
      },
      "outputs": [
        {
          "output_type": "stream",
          "name": "stderr",
          "text": [
            "/usr/local/lib/python3.7/dist-packages/ipykernel_launcher.py:40: FutureWarning: The default value of regex will change from True to False in a future version.\n"
          ]
        },
        {
          "output_type": "execute_result",
          "data": {
            "text/plain": [
              "(266515, 112)"
            ]
          },
          "metadata": {},
          "execution_count": 2
        }
      ],
      "source": [
        "# Importa os dados a partir do google drive e faz os tratamentos da variável resposta, gerando a base LGD\n",
        "import pandas as pd\n",
        "import os, sys\n",
        "import matplotlib.pyplot as plt\n",
        "import numpy as np\n",
        "import seaborn as sns\n",
        "pd.set_option('display.max_columns', None)     # ajuste da visualização de tabela para todas as colunas\n",
        "pd.set_option('display.max_rows', None)        # ajuste da visualização de tabela para todas as linhas\n",
        "pd.set_option('mode.chained_assignment', None) # evita o aviso de processamento do Pandas\n",
        "\n",
        "os.chdir('/content/drive/My Drive/Colab Notebooks/')\n",
        "#os.chdir('/content/drive/My Drive/Colab Notebooks/2_Dados/')\n",
        "df = pd.read_csv('lgd.csv.zip', compression='zip', low_memory=False, index_col=0)\n",
        "\n",
        "# Transforma a informação de data de concessão do crédito e deleta a variável original, bem como o status do empréstimo\n",
        "#df['issue_d_date'] = pd.to_datetime(df['issue_d'], format = '%b-%Y')\n",
        "df['year'] = pd.DatetimeIndex(df['issue_d']).year\n",
        "\n",
        "# Exclui os casos com principal totalmente pago, para evitar problema no calculo da resposta\n",
        "df = df[(df['loan_amnt']-df['total_rec_prncp'])>0] # Exclusão 31 observações\n",
        "\n",
        "# Construindo a variável resposta LDG_c_custo\n",
        "df['lgd'] = 1-((df['recoveries']-df['collection_recovery_fee'])/(df['loan_amnt']-df['total_rec_prncp']))\n",
        "df['lgd'] = np.where(df['lgd'] < -0.3, -0.3, df['lgd']) # 17 censurados\n",
        "df = df[df.year.isin([2014, 2015, 2016, 2017])]\n",
        "\n",
        "# transformando o plano de pagamento em numérico e depois em dummy = 1 (60 meses)\n",
        "df['term_c'] = np.where(pd.to_numeric(df['term'].str.replace(' months', ''))==60, 1, 0)\n",
        "\n",
        "# transformando a taxa de juros em numérico\n",
        "df['int_rate_n'] = pd.to_numeric(df['int_rate'].str.replace('%', ''))\n",
        "\n",
        "# Tratando a variável subgrade, de categorias para contínua\n",
        "a = {'A1':1,'A2':2,'A3':3,'A4':4,'A5':5,'B1':6,'B2':7,'B3':8,'B4':9,'B5':10,'C1':11,'C2':12,'C3':13,'C4':14,'C5':15,\\\n",
        "     'D1':16,'D2':17,'D3':18,'D4':19,'D5':20,'E1':21,'E2':22,'E3':23,'E4':24,'E5':25,\\\n",
        "     'F1':26,'F2':27,'F3':28,'F4':29,'F5':30,'G1':31,'G2':32,'G3':33,'G4':34,'G5':35}\n",
        "df['sub_grade_n'] = df['sub_grade'].map(a)\n",
        "\n",
        "# Tratando o texto da variável tempo de emprego\n",
        "df['emp_length_n'] = df['emp_length'].str.replace('\\+ years', '') #subst palavra por vazio\n",
        "df['emp_length_n'] = df['emp_length_n'].str.replace('< 1 year', str(0)) #subst <1 ano por 0 (zero)\n",
        "df['emp_length_n'] = df['emp_length_n'].str.replace('n/a',  str(0)) #subst S/I por 0 (zero)\n",
        "df['emp_length_n'] = df['emp_length_n'].str.replace(' years', '') #subst palavra por vazio\n",
        "df['emp_length_n'] = df['emp_length_n'].str.replace(' year', '') #subst palavra por vazio\n",
        "df['emp_length_n'] = pd.to_numeric(df['emp_length_n']) #Transforma em numérico\n",
        "df['emp_length_n'] = np.where(df['emp_length_n']==0, 0.5, df['emp_length_n']) # Transforma 0 anos em 0.5 \n",
        "df['emp_length_n'].fillna(0, inplace=True) # nos casos sem informação assume-se 0 (pior condição)\n",
        "\n",
        "# Categorizada em verificada e não verificada\n",
        "b = {'Not Verified':0,'Source Verified':1,'Verified':1}\n",
        "df['verification_c'] = df['verification_status'].map(b)\n",
        "\n",
        "# Tratando o dti - endividamento\n",
        "df['dti'].fillna(0, inplace=True) #85 nulas\n",
        "\n",
        "# Data da primeira linha de crédito, transformado em tempo de relacionamento no mercado em anos base 2017\n",
        "df['earliest_cr_line_n'] = 2017 - pd.DatetimeIndex(df['earliest_cr_line']).year\n",
        "\n",
        "# Preenchendo com 0 os valores nulos e criando indicador de não ocorrencia\n",
        "df['mths_since_last_delinq_null'] = np.where(df['mths_since_last_delinq'].isnull(),1,0) \n",
        "df['mths_since_last_delinq'].fillna(0, inplace=True) #125323 nulas\n",
        "df['mths_since_last_record_null'] = np.where(df['mths_since_last_record'].isnull(),1,0) \n",
        "df['mths_since_last_record'].fillna(0, inplace=True) #210424 nulas\n",
        "df['mths_since_last_major_derog_null'] = np.where(df['mths_since_last_major_derog'].isnull(),1,0) \n",
        "df['mths_since_last_major_derog'].fillna(0, inplace=True) #183776 nulas\n",
        "\n",
        "# Preenchendo com 0 os valores nulos e transforma a info em número ao invés de texto\n",
        "df['revol_util_n'] = pd.to_numeric(np.where(df['revol_util'].isnull(),0,df['revol_util'].str.replace('%', '')))\n",
        "\n",
        "# Categorizando variáveis para empréstimos conjuntos e preenchendo com 0 os valores nulos\n",
        "c = {'Joint App':0,'Individual':1}\n",
        "df['application_type_c'] = df['application_type'].map(c)\n",
        "\n",
        "# Preenchendo nulos com zeros\n",
        "df['open_acc_6m'].fillna(0, inplace=True) #117319 nulas\n",
        "df['open_act_il'].fillna(0, inplace=True) #117319 nulas\n",
        "df['open_il_12m'].fillna(0, inplace=True) #117319 nulas\n",
        "df['open_il_24m'].fillna(0, inplace=True) #117319 nulas\n",
        "df['mths_since_rcnt_il'].fillna(0, inplace=True) #121784 nulas\n",
        "df['total_bal_il'].fillna(0, inplace=True) #117319 nulas\n",
        "df['il_util'].fillna(0, inplace=True) #136010 nulas\n",
        "df['open_rv_12m'].fillna(0, inplace=True) #117319 nulas\n",
        "df['open_rv_24m'].fillna(0, inplace=True) #117319 nulas\n",
        "df['max_bal_bc'].fillna(0, inplace=True) #117319 nulas\n",
        "df['all_util'].fillna(0, inplace=True) #117319 nulas\n",
        "df['inq_fi'].fillna(0, inplace=True) #117319 nulas\n",
        "df['total_cu_tl'].fillna(0, inplace=True) #117319 nulas\n",
        "df['inq_last_12m'].fillna(0, inplace=True) #117319 nulas\n",
        "df['avg_cur_bal'].fillna(0, inplace=True) #5 nulas\n",
        "df['bc_open_to_buy'].fillna(0, inplace=True) #2929 nulas\n",
        "df['bc_util'].fillna(0, inplace=True) #3090 nulas\n",
        "df['mo_sin_old_il_acct'].fillna(0, inplace=True) #7939 nulas\n",
        "df['num_tl_120dpd_2m'].fillna(0, inplace=True) #16062 nulas\n",
        "df['percent_bc_gt_75'].fillna(0, inplace=True) #3009 nulas\n",
        "\n",
        "# Categorizando variáveis atrasos em contas internas e preenchendo com 0 os valores nulos\n",
        "df['mths_since_recent_bc'].fillna(0, inplace=True) #2764 nulas\n",
        "df['mths_since_recent_bc_dlq'].fillna(0, inplace=True) #196726 nulas\n",
        "df['mths_since_recent_bc_dlq_null'] = np.where(df['mths_since_recent_bc_dlq'].isnull(),1,0) \n",
        "df['mths_since_recent_inq'].fillna(0, inplace=True) #19513 nulas\n",
        "df['mths_since_recent_revol_delinq'].fillna(0, inplace=True) #196726 nulas\n",
        "df['mths_since_recent_revol_delinq_null'] = np.where(df['mths_since_recent_revol_delinq'].isnull(),1,0) \n",
        "\n",
        "df = df[['lgd','year','loan_amnt','funded_amnt_inv','term_c','int_rate_n','installment','grade','sub_grade_n',\\\n",
        "         'emp_length_n','home_ownership','annual_inc','verification_c','purpose','dti','delinq_2yrs',\\\n",
        "         'earliest_cr_line_n','fico_range_low','fico_range_high','inq_last_6mths','mths_since_last_delinq',\\\n",
        "         'mths_since_last_delinq_null','mths_since_last_record','mths_since_last_record_null','open_acc','pub_rec','revol_bal',\\\n",
        "         'revol_util_n','total_acc','total_pymnt','total_rec_prncp','total_rec_int','total_rec_late_fee',\\\n",
        "         'last_fico_range_high','last_fico_range_low','collections_12_mths_ex_med','mths_since_last_major_derog',\\\n",
        "         'mths_since_last_major_derog_null','application_type_c','acc_now_delinq','tot_coll_amt','tot_cur_bal','open_acc_6m',\\\n",
        "         'open_act_il','open_il_12m','open_il_24m','mths_since_rcnt_il','total_bal_il','il_util','open_rv_12m',\\\n",
        "         'open_rv_24m','max_bal_bc','all_util','total_rev_hi_lim','inq_fi','total_cu_tl','inq_last_12m',\\\n",
        "         'acc_open_past_24mths','avg_cur_bal','bc_open_to_buy','bc_util','chargeoff_within_12_mths','delinq_amnt',\\\n",
        "         'mo_sin_old_il_acct','mo_sin_old_rev_tl_op','mo_sin_rcnt_rev_tl_op','mo_sin_rcnt_tl','mort_acc',\\\n",
        "         'mths_since_recent_bc','mths_since_recent_bc_dlq','mths_since_recent_bc_dlq_null',\\\n",
        "         'mths_since_recent_inq','mths_since_recent_revol_delinq','mths_since_recent_revol_delinq_null',\\\n",
        "         'num_accts_ever_120_pd','num_actv_bc_tl','num_actv_rev_tl','num_bc_sats','num_bc_tl',\\\n",
        "         'num_il_tl','num_op_rev_tl','num_rev_accts','num_rev_tl_bal_gt_0','num_sats','num_tl_120dpd_2m',\\\n",
        "         'num_tl_90g_dpd_24m','num_tl_op_past_12m','pct_tl_nvr_dlq','percent_bc_gt_75','pub_rec_bankruptcies',\\\n",
        "         'tax_liens','tot_hi_cred_lim','total_bal_ex_mort','total_bc_limit','total_il_high_credit_limit']]\n",
        "\n",
        "# Cria as dummies e concatena na tabela final \n",
        "dummies = [pd.get_dummies(df['grade'], prefix = 'grade', prefix_sep = ':'),\n",
        "           pd.get_dummies(df['home_ownership'], prefix = 'home_ownership', prefix_sep = ':'),\n",
        "           pd.get_dummies(df['purpose'], prefix = 'purpose', prefix_sep = ':')]\n",
        "\n",
        "dummies = pd.concat(dummies, axis = 1)\n",
        "df1 = pd.concat([df, dummies], axis = 1)\n",
        "df1 = df1.drop(['grade','grade:G','home_ownership','home_ownership:RENT','purpose','purpose:small_business'], axis = 1)\n",
        "df1.shape #(266515, 112)\n",
        "del df, dummies\n",
        "\n",
        "df1.shape #(266515, 112)\n",
        "#df1.tail(5)\n",
        "#Exportando para o excel - lembrar de sincronizar o drive\n",
        "#df1.to_excel(r'teste.xlsx', index = True, header=True)"
      ]
    },
    {
      "cell_type": "code",
      "source": [
        "from sklearn.model_selection import train_test_split # Import train_test_split function\n",
        "\n",
        "# seleciona a base de deselvolvimento\n",
        "df_des = df1[df1.year.isin([2014,2015])].drop(columns=['year'])\n",
        "#df_des = df_des.sample(frac =.25, replace = False, random_state = 2) #25%\n",
        "#df_des = df_des.sample(frac =.10, replace = False, random_state = 2) #10%\n",
        "#df_des = df_des.sample(frac =.02, replace = False, random_state = 2) #2%\n",
        "\n",
        "y = df_des.pop('lgd').to_numpy() \n",
        "X = df_des.to_numpy()\n",
        "\n",
        "# Determinação da amostra de treinamento e  \n",
        "X_train, X_test, y_train, y_test = train_test_split(X, y, test_size=0.2, random_state=120) # 80% training and 20% test\n",
        "\n",
        "# Separa as amostras de validação out-of-time\n",
        "X_2016 = df1[df1['year']==2016].drop(columns=['year']) #(78998, 111)\n",
        "X_2017 = df1[df1['year']==2017].drop(columns=['year']) #(66083, 111)\n",
        "y_2016 = X_2016.pop('lgd').to_numpy() \n",
        "X_2016 = X_2016.to_numpy()\n",
        "y_2017 = X_2017.pop('lgd').to_numpy() \n",
        "X_2017 = X_2017.to_numpy()\n",
        "\n",
        "(X_train.shape, y_train.shape, X_test.shape, y_test.shape,)"
      ],
      "metadata": {
        "id": "bjCEbljA1kGa",
        "colab": {
          "base_uri": "https://localhost:8080/"
        },
        "outputId": "5c74e715-2199-4207-9d83-3e9a2fc303bc"
      },
      "execution_count": 3,
      "outputs": [
        {
          "output_type": "execute_result",
          "data": {
            "text/plain": [
              "((97147, 110), (97147,), (24287, 110), (24287,))"
            ]
          },
          "metadata": {},
          "execution_count": 3
        }
      ]
    },
    {
      "cell_type": "code",
      "source": [
        "import autosklearn.regression\n",
        "\n",
        "automl = autosklearn.regression.AutoSklearnRegressor(\n",
        "    time_left_for_this_task=3600, #1 hora total\n",
        "    per_run_time_limit = 500,\n",
        ")\n",
        "automl.fit(X_train, y_train, feat_type=['Numerical']*110)\n",
        "\n",
        "# Retorna o valor previsto nas diferentes amostras\n",
        "y_pred_train = automl.predict(X_train)\n",
        "y_pred_test = automl.predict(X_test)\n",
        "y_pred_2016 = automl.predict(X_2016)\n",
        "y_pred_2017 = automl.predict(X_2017)\n",
        "\n",
        "#View the models found by auto-sklearn\n",
        "print(automl.leaderboard())"
      ],
      "metadata": {
        "colab": {
          "base_uri": "https://localhost:8080/"
        },
        "id": "-BPhf1_r96Be",
        "outputId": "20983cf6-350f-4fc1-bf5e-b6994eff0356"
      },
      "execution_count": 4,
      "outputs": [
        {
          "output_type": "stream",
          "name": "stdout",
          "text": [
            "          rank  ensemble_weight            type      cost    duration\n",
            "model_id                                                             \n",
            "7            1             0.48  ard_regression  0.338614   86.203750\n",
            "11           2             0.30     extra_trees  0.347849  481.899544\n",
            "30           3             0.22   decision_tree  0.473072    8.197577\n"
          ]
        }
      ]
    },
    {
      "cell_type": "code",
      "source": [
        "# Print the final ensemble constructed by auto-sklearn\n",
        "from pprint import pprint\n",
        "pprint(automl.show_models(), indent=4)"
      ],
      "metadata": {
        "colab": {
          "base_uri": "https://localhost:8080/"
        },
        "id": "uEk2PCUsI9K0",
        "outputId": "ccd95ce9-8ee1-4539-8c3a-9e027a79bbbd"
      },
      "execution_count": 8,
      "outputs": [
        {
          "output_type": "stream",
          "name": "stdout",
          "text": [
            "{   7: {   'cost': 0.33861433257560125,\n",
            "           'data_preprocessor': <autosklearn.pipeline.components.data_preprocessing.DataPreprocessorChoice object at 0x7f57a5b4a310>,\n",
            "           'ensemble_weight': 0.48,\n",
            "           'feature_preprocessor': <autosklearn.pipeline.components.feature_preprocessing.FeaturePreprocessorChoice object at 0x7f57a5975410>,\n",
            "           'model_id': 7,\n",
            "           'rank': 1,\n",
            "           'regressor': <autosklearn.pipeline.components.regression.RegressorChoice object at 0x7f57a5dbbe10>,\n",
            "           'sklearn_regressor': ARDRegression(alpha_1=2.7664515192592053e-05, alpha_2=9.504988116581138e-07,\n",
            "              copy_X=False, lambda_1=4.184987756432487e-09,\n",
            "              lambda_2=4.238533890074848e-07,\n",
            "              threshold_lambda=78251.58542976103, tol=0.0006951835906397672)},\n",
            "    11: {   'cost': 0.34784855076122434,\n",
            "            'data_preprocessor': <autosklearn.pipeline.components.data_preprocessing.DataPreprocessorChoice object at 0x7f57a5b4aa10>,\n",
            "            'ensemble_weight': 0.3,\n",
            "            'feature_preprocessor': <autosklearn.pipeline.components.feature_preprocessing.FeaturePreprocessorChoice object at 0x7f57a5e87d10>,\n",
            "            'model_id': 11,\n",
            "            'rank': 2,\n",
            "            'regressor': <autosklearn.pipeline.components.regression.RegressorChoice object at 0x7f57a5dbba10>,\n",
            "            'sklearn_regressor': ExtraTreesRegressor(max_features=0.6962692885049272, min_samples_leaf=17,\n",
            "                    min_samples_split=17, n_estimators=512, n_jobs=1,\n",
            "                    random_state=1, warm_start=True)},\n",
            "    30: {   'cost': 0.4730715108247965,\n",
            "            'data_preprocessor': <autosklearn.pipeline.components.data_preprocessing.DataPreprocessorChoice object at 0x7f57a5e46cd0>,\n",
            "            'ensemble_weight': 0.22,\n",
            "            'feature_preprocessor': <autosklearn.pipeline.components.feature_preprocessing.FeaturePreprocessorChoice object at 0x7f57a5e72650>,\n",
            "            'model_id': 30,\n",
            "            'rank': 3,\n",
            "            'regressor': <autosklearn.pipeline.components.regression.RegressorChoice object at 0x7f57a5e87190>,\n",
            "            'sklearn_regressor': DecisionTreeRegressor(criterion='friedman_mse', max_depth=60,\n",
            "                      min_samples_leaf=16, min_samples_split=9, random_state=1)}}\n"
          ]
        }
      ]
    },
    {
      "cell_type": "code",
      "source": [
        "#https://scikit-learn.org/stable/modules/model_evaluation.html \n",
        "#https://www.linkedin.com/pulse/rmse-ou-mae-como-avaliar-meu-modelo-de-machine-learning-rezende/?originalSubdomain=pt\n",
        "#https://realpython.com/numpy-scipy-pandas-correlation-python/\n",
        "def reg_metrics(y, y_pred, X):\n",
        "    from sklearn.metrics import mean_squared_error, r2_score, mean_absolute_error\n",
        "    import scipy.stats\n",
        "\n",
        "    mae = mean_absolute_error(y,y_pred)\n",
        "    rmse = np.sqrt(mean_squared_error(y,y_pred)) #penaliza mais a existência de outliers, ver o artigo acima\n",
        "    r2 = r2_score(y,y_pred)\n",
        "    # Scikit-learn doesn't have adjusted r-square, hence custom code\n",
        "    n = y_pred.shape[0]\n",
        "    k = X_train.shape[1]\n",
        "    adj_r_sq = 1 - (1 - r2)*(n-1)/(n-1-k)\n",
        "\n",
        "    df_y = pd.DataFrame(y, columns = ['y'])\n",
        "    r = scipy.stats.pearsonr(df_y['y'].tolist(),y_pred.tolist())[0] # Pearson's r\n",
        "    rho = scipy.stats.spearmanr(df_y['y'].tolist(),y_pred.tolist()).correlation   # Spearman's rho\n",
        "    tau = scipy.stats.kendalltau(df_y['y'].tolist(),y_pred.tolist()).correlation  # Kendall's tau\n",
        "\n",
        "    print('mae:',round(mae,7),'rmse:',round(rmse,7),'R2:',round(r2,7),'R2_Ajustado:', round(adj_r_sq,7),\\\n",
        "          'Qtd:',n, 'r:', round(r,7), 'rho:', round(rho,7), 'tau:', round(tau,7))\n",
        "\n",
        "reg_metrics(y_train, y_pred_train, X_train)\n",
        "reg_metrics(y_test, y_pred_test, X_test)\n",
        "reg_metrics(y_2016, y_pred_2016, X_2016)\n",
        "reg_metrics(y_2017, y_pred_2017, X_2017)"
      ],
      "metadata": {
        "colab": {
          "base_uri": "https://localhost:8080/"
        },
        "id": "x8pvj9dOP_N2",
        "outputId": "c03ac938-8a55-4f59-c623-1ff21a31bc52"
      },
      "execution_count": 5,
      "outputs": [
        {
          "output_type": "stream",
          "name": "stdout",
          "text": [
            "mae: 0.036826 rmse: 0.0644649 R2: 0.7574214 R2_Ajustado: 0.7571464 Qtd: 97147 r: 0.8878603 rho: 0.8974145 tau: 0.7540538\n",
            "mae: 0.0400575 rmse: 0.0695886 R2: 0.7221953 R2_Ajustado: 0.7209313 Qtd: 24287 r: 0.8661869 rho: 0.8636003 tau: 0.7142966\n",
            "mae: 0.0402888 rmse: 0.0692625 R2: 0.7148444 R2_Ajustado: 0.7144468 Qtd: 78998 r: 0.8596915 rho: 0.851258 tau: 0.7023607\n",
            "mae: 0.034007 rmse: 0.0571565 R2: 0.7146899 R2_Ajustado: 0.7142142 Qtd: 66083 r: 0.8592107 rho: 0.8289754 tau: 0.6664224\n"
          ]
        }
      ]
    },
    {
      "cell_type": "code",
      "source": [
        "# gráfico do teste vs desenvolvimento -> plotar também no simples\n",
        "\n",
        "plt.scatter(y_pred_train, y_train, label=\"Train samples\", c='#d95f02')\n",
        "plt.scatter(y_pred_test, y_test, label=\"Test samples\", c='#7570b3') \n",
        "plt.xlabel(\"Predicted value\")\n",
        "plt.ylabel(\"True value\")\n",
        "plt.legend()\n",
        "plt.plot([0, 1.1], [0, 1.1], c='k', zorder=0)\n",
        "plt.xlim([0, 1.1])\n",
        "plt.ylim([0, 1.1])\n",
        "plt.tight_layout()\n",
        "plt.show()"
      ],
      "metadata": {
        "colab": {
          "base_uri": "https://localhost:8080/",
          "height": 297
        },
        "id": "WV5_r_KRfoCt",
        "outputId": "75498d4e-4e61-4930-9d3d-1a7622272ad9"
      },
      "execution_count": 6,
      "outputs": [
        {
          "output_type": "display_data",
          "data": {
            "text/plain": [
              "<Figure size 432x288 with 1 Axes>"
            ],
            "image/png": "[encoded data removed]"
          },
          "metadata": {
            "needs_background": "light"
          }
        }
      ]
    },
    {
      "cell_type": "markdown",
      "source": [
        "\n",
        "# 2) Analise Árvore de Decisão\n",
        "\n",
        "> A avaliação de possível segmentação das variáveis contínuas ou agrupamento de categóricas em função da resposta `lgd` não se mostrou adequada. Dessa forma será conduzido o desenvolvimento direto do modelo.\n",
        "\n",
        "> Abaixo o modelo processado para amostras de 2%, 10%, 25% e 100% da base "
      ],
      "metadata": {
        "id": "aAPVc6YRIt2c"
      }
    },
    {
      "cell_type": "code",
      "execution_count": null,
      "metadata": {
        "id": "S7eSweeRIUez"
      },
      "outputs": [],
      "source": [
        "from sklearn.tree import DecisionTreeRegressor # Import Decision Tree Classifier\n",
        "from sklearn.model_selection import train_test_split # Import train_test_split function\n",
        "from sklearn import metrics #Import scikit-learn metrics module for accuracy calculation \n",
        "\n",
        "# Separa as amostras iniciais\n",
        "df_des = df1[df1.year.isin([2014,2015])].drop(columns=['id','year'])\n",
        "#df_des = df_des.sample(frac =.25, replace = False, random_state = 2) #25%\n",
        "#df_des = df_des.sample(frac =.10, replace = False, random_state = 2) #10%\n",
        "#df_des = df_des.sample(frac =.02, replace = False, random_state = 2) #2%\n",
        "\n",
        "# Separa as amostras de validação out-of-time\n",
        "df_2016 = df1[df1['year']==2016].drop(columns=['id','year'])\n",
        "df_2017 = df1[df1['year']==2017].drop(columns=['id','year'])\n",
        "\n",
        "feature_cols = ['loan_amnt','term_c','int_rate_n','ead','ead_inc','ead_loan','emp_length_n',\\\n",
        "                'annual_inc','dti','delinq_2yrs','mths_since_last_delinq','pub_rec','inq_last_12m',\\\n",
        "                'grade:A','grade:B','grade:C','grade:D','grade:E','grade:F',\\\n",
        "                'home_ownership:ANY','home_ownership:MORTGAGE','home_ownership:OWN',\\\n",
        "                'purpose:car','purpose:credit_card','purpose:debt_consolidation','purpose:home_improvement',\\\n",
        "                'purpose:house','purpose:major_purchase','purpose:medical','purpose:moving',\\\n",
        "                'purpose:other','purpose:renewable_energy','purpose:vacation']\n",
        "X = df_des[feature_cols].to_numpy() \n",
        "y = df_des[['lgd']].to_numpy() # Target variable\n",
        "X_2016 = df_2016[feature_cols].to_numpy() \n",
        "y_2016 = df_2016[['lgd']].to_numpy() \n",
        "X_2017 = df_2017[feature_cols].to_numpy() \n",
        "y_2017 = df_2017[['lgd']].to_numpy() \n",
        "\n",
        "# Determinação da amostra de treinamento e  \n",
        "X_train, X_test, y_train, y_test = train_test_split(X, y, test_size=0.2, random_state=120) # 80% training and 20% test\n",
        "# Create Decision Tree Regressor object (resposta contínua)\n",
        "# clf = DecisionTreeRegressor(max_depth=2,min_samples_leaf=10000)\n",
        "clf = DecisionTreeRegressor(max_depth=4,min_samples_leaf=0.05, min_impurity_decrease=0.000001)\n",
        "# Train Decision Tree Classifer\n",
        "clf = clf.fit(X_train,y_train)\n",
        "# Predict the response for test dataset\n",
        "y_pred_train = clf.predict(X_train)\n",
        "y_pred_test = clf.predict(X_test)\n",
        "y_pred_2016 = clf.predict(X_2016)\n",
        "y_pred_2017 = clf.predict(X_2017)\n",
        "\n",
        "# Gera o gráfico da estrutura da árvore\n",
        "from sklearn.tree import export_graphviz\n",
        "from io import StringIO\n",
        "from IPython.display import Image  \n",
        "import pydotplus\n",
        "dot_data = StringIO()\n",
        "export_graphviz(clf, out_file=dot_data,  \n",
        "                filled=True, rounded=True,\n",
        "                special_characters=False,leaves_parallel=False,proportion=False,rotate=False, node_ids=True, feature_names = feature_cols),\n",
        "graph = pydotplus.graph_from_dot_data(dot_data.getvalue())  \n",
        "graph.write_png('lgd.png')\n",
        "Image(graph.create_png())"
      ]
    },
    {
      "cell_type": "markdown",
      "source": [
        "\n",
        "# 3) Regressão Simples\n",
        "\n",
        "> A avaliação de possível segmentação das variáveis contínuas ou agrupamento de categóricas em função da resposta `lgd` não se mostrou adequada. Dessa forma será conduzido o desenvolvimento direto do modelo.\n",
        "\n",
        "> Abaixo o modelo processado para amostras de 2%, 10%, 25% e 100% da base \n",
        "\n",
        "> Necessário rodar o código abaixo para melhorar a relação das variáveis com a resposta."
      ],
      "metadata": {
        "id": "ThkCd-k5zAV2"
      }
    },
    {
      "cell_type": "code",
      "source": [
        "import statsmodels.api as sm\n",
        "\n",
        "# Separa as amostras iniciais\n",
        "# ----------------------------------------\n",
        "df_des = df1[df1.year.isin([2014,2015])].drop(columns=['id','year'])\n",
        "des_train=df_des.sample(frac=0.8,random_state=2)\n",
        "des_test=df_des.drop(des_train.index)\n",
        "\n",
        "#df_des = df_des.sample(frac =.25, replace = False, random_state = 2) #25%\n",
        "#des_train=df_des.sample(frac=0.8,random_state=2)\n",
        "#des_test=df_des.drop(des_train.index)\n",
        "#df_des = df_des.sample(frac =.10, replace = False, random_state = 2) #10%\n",
        "#des_train=df_des.sample(frac=0.8,random_state=2)\n",
        "#des_test=df_des.drop(des_train.index)\n",
        "#df_des = df_des.sample(frac =.02, replace = False, random_state = 2) #2%\n",
        "#des_train=df_des.sample(frac=0.8,random_state=2)\n",
        "#des_test=df_des.drop(des_train.index)\n",
        "\n",
        "# Separa as amostras de validação out-of-time\n",
        "df_2016 = df1[df1['year']==2016].drop(columns=['id','year'])\n",
        "df_2017 = df1[df1['year']==2017].drop(columns=['id','year'])\n",
        "\n",
        "#feature_cols = ['loan_amnt','term_c','int_rate_n','ead','ead_inc','ead_loan','emp_length_n',\\\n",
        "#                'annual_inc','dti','delinq_2yrs','mths_since_last_delinq','pub_rec','inq_last_12m',\\\n",
        "#                'home_ownership:ANY','home_ownership:MORTGAGE','home_ownership:OWN',\\\n",
        "#                'purpose:car','purpose:credit_card','purpose:debt_consolidation','purpose:home_improvement',\\\n",
        "#                'purpose:house','purpose:major_purchase','purpose:medical','purpose:moving',\\\n",
        "#                'purpose:other','purpose:renewable_energy','purpose:vacation']\n",
        "\n",
        "feature_cols = ['term_c','ead','int_rate_n','ead_loan','emp_length_n',\\\n",
        "                'annual_inc','dti','delinq_2yrs','mths_since_last_delinq','pub_rec',\\\n",
        "                'home_ownership:ANY','home_ownership:MORTGAGE','home_ownership:OWN',\\\n",
        "                'purpose:car','purpose:credit_card','purpose:debt_consolidation',\\\n",
        "                'purpose:other']\n",
        "\n",
        "X_train = des_train[feature_cols]\n",
        "y_train = des_train[['lgd']]\n",
        "y_train.rename(columns = {'lgd':'y'}, inplace = True)\n",
        "X_test = des_test[feature_cols] \n",
        "y_test = des_test[['lgd']]\n",
        "y_test.rename(columns = {'lgd':'y'}, inplace = True)\n",
        "X_2016 = df_2016[feature_cols] \n",
        "y_2016 = df_2016[['lgd']] \n",
        "y_2016.rename(columns = {'lgd':'y'}, inplace = True)\n",
        "X_2017 = df_2017[feature_cols] \n",
        "y_2017 = df_2017[['lgd']] \n",
        "y_2017.rename(columns = {'lgd':'y'}, inplace = True)\n",
        "                     \n",
        "# Processamento geral para avaliar o primeiro processamento da base.\n",
        "# Interessante notar que não há a necessidade de converter para estrutura Numpy\n",
        "results = sm.OLS(y_train, sm.add_constant(X_train)).fit()\n",
        "print(results.summary())\n",
        "\n",
        "y_pred_train = results.predict(sm.add_constant(X_train))\n",
        "y_pred_test = results.predict(sm.add_constant(X_test))\n",
        "y_pred_2016 = results.predict(sm.add_constant(X_2016))\n",
        "y_pred_2017 = results.predict(sm.add_constant(X_2017))"
      ],
      "metadata": {
        "id": "dmPfDNem-xSU"
      },
      "execution_count": null,
      "outputs": []
    },
    {
      "cell_type": "code",
      "source": [
        "#https://scikit-learn.org/stable/modules/model_evaluation.html \n",
        "#https://www.linkedin.com/pulse/rmse-ou-mae-como-avaliar-meu-modelo-de-machine-learning-rezende/?originalSubdomain=pt\n",
        "#https://realpython.com/numpy-scipy-pandas-correlation-python/\n",
        "def reg_metrics(y, y_pred, X):\n",
        "    from sklearn.metrics import mean_squared_error, r2_score, mean_absolute_error\n",
        "    import scipy.stats\n",
        "\n",
        "    mae = mean_absolute_error(y,y_pred)\n",
        "    rmse = np.sqrt(mean_squared_error(y,y_pred)) #penaliza mais a existência de outliers, ver o artigo acima\n",
        "    r2 = r2_score(y,y_pred)\n",
        "    # Scikit-learn doesn't have adjusted r-square, hence custom code\n",
        "    n = y_pred.shape[0]\n",
        "    k = X_train.shape[1]\n",
        "    adj_r_sq = 1 - (1 - r2)*(n-1)/(n-1-k)\n",
        "\n",
        "    df_y = pd.DataFrame(y, columns = ['y'])\n",
        "    r = scipy.stats.pearsonr(df_y['y'].tolist(),y_pred.tolist())[0] # Pearson's r\n",
        "    rho = scipy.stats.spearmanr(df_y['y'].tolist(),y_pred.tolist()).correlation   # Spearman's rho\n",
        "    tau = scipy.stats.kendalltau(df_y['y'].tolist(),y_pred.tolist()).correlation  # Kendall's tau\n",
        "\n",
        "    print('mae:',round(mae,7),'rmse:',round(rmse,7),'R2:',round(r2,7),'R2_Ajustado:', round(adj_r_sq,7),\\\n",
        "          'Qtd:',n, 'r:', round(r,7), 'rho:', round(rho,7), 'tau:', round(tau,7))\n",
        "\n",
        "reg_metrics(y_train, y_pred_train, X_train)\n",
        "reg_metrics(y_test, y_pred_test, X_test)\n",
        "reg_metrics(y_2016, y_pred_2016, X_2016)\n",
        "reg_metrics(y_2017, y_pred_2017, X_2017)"
      ],
      "metadata": {
        "id": "6Z8zJh8k4RyO"
      },
      "execution_count": null,
      "outputs": []
    },
    {
      "cell_type": "markdown",
      "metadata": {
        "id": "0JbuFoGmp85J"
      },
      "source": [
        "#4) Validações / Auxiliares\n",
        "\n",
        "#### 4.1 Abaixo foi gerada uma amostra para validar os indicadores de ajuste do modelo de regressão, e os calculos mostraram-se todos adequados no Python.\n",
        "\n",
        "#### 4.2 Na sequência há um código para calcular o VIF das variáveis. Teste importante.\n"
      ]
    },
    {
      "cell_type": "code",
      "source": [
        "# geração de base para teste dos indicadores -> Todos os indicadores de qualidade validados\n",
        "# ----------------------------------------------------------------------\n",
        "df_y_pred_test = pd.DataFrame(y_pred_2016, columns = ['y_pred_test'])\n",
        "df_y_test = pd.DataFrame(y_2016, columns = ['y_test'])\n",
        "df_X_test = pd.DataFrame(X_2016, columns = feature_cols)\n",
        "df_test = pd.concat([df_y_pred_test,df_y_test,df_X_test], join='inner', axis=1)\n",
        "df_test.to_excel(r'df_test_2016.xlsx', index = True, header=True)\n",
        "\n",
        "# Exporta a estrutura da árvore\n",
        "from sklearn.tree import export_text\n",
        "print(export_text(clf, feature_names = feature_cols, decimals=15, show_weights=False, spacing=5))"
      ],
      "metadata": {
        "id": "D5M6OlZF4qZP"
      },
      "execution_count": null,
      "outputs": []
    },
    {
      "cell_type": "code",
      "source": [
        "#plt.scatter(y_pred_2017,y_2017)\n",
        "#y_pred_2017.describe()\n",
        "from statsmodels.stats.outliers_influence import variance_inflation_factor\n",
        "# VIF dataframe\n",
        "vif_data = pd.DataFrame()\n",
        "vif_data[\"feature\"] = X_train.columns\n",
        "# calculating VIF for each feature\n",
        "vif_data[\"VIF\"] = [variance_inflation_factor(X_train.values, i)\n",
        "                          for i in range(len(X_train.columns))]\n",
        "print(vif_data)"
      ],
      "metadata": {
        "id": "01TXrp_HLlpQ"
      },
      "execution_count": null,
      "outputs": []
    }
  ],
  "metadata": {
    "colab": {
      "collapsed_sections": [],
      "provenance": [],
      "include_colab_link": true
    },
    "gpuClass": "standard",
    "kernelspec": {
      "display_name": "Python 3",
      "name": "python3"
    }
  },
  "nbformat": 4,
  "nbformat_minor": 0
}